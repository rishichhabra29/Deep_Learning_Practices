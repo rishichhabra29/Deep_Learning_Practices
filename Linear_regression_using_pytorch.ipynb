{
  "nbformat": 4,
  "nbformat_minor": 0,
  "metadata": {
    "colab": {
      "provenance": []
    },
    "kernelspec": {
      "name": "python3",
      "display_name": "Python 3"
    },
    "language_info": {
      "name": "python"
    }
  },
  "cells": [
    {
      "cell_type": "code",
      "execution_count": 1,
      "metadata": {
        "id": "TxBqheREwbF0"
      },
      "outputs": [],
      "source": [
        "import torch\n",
        "import numpy as np\n",
        "import matplotlib.pyplot as plt\n",
        "%matplotlib inline"
      ]
    },
    {
      "cell_type": "code",
      "source": [
        "import torch.nn as nn"
      ],
      "metadata": {
        "id": "wgCkqX6iwxFt"
      },
      "execution_count": 2,
      "outputs": []
    },
    {
      "cell_type": "code",
      "source": [
        "torch.set_default_dtype(torch.float32)\n"
      ],
      "metadata": {
        "id": "wJRQUgG6_2vA"
      },
      "execution_count": 61,
      "outputs": []
    },
    {
      "cell_type": "code",
      "source": [
        "X=torch.linspace(0.0,50.0,50).reshape(-1,1)\n",
        "X.dtype\n"
      ],
      "metadata": {
        "colab": {
          "base_uri": "https://localhost:8080/"
        },
        "id": "u-VxJ8zUw7fQ",
        "outputId": "e41ec5a0-8af4-4e00-c83a-2a77a7a57753"
      },
      "execution_count": 3,
      "outputs": [
        {
          "output_type": "execute_result",
          "data": {
            "text/plain": [
              "torch.float32"
            ]
          },
          "metadata": {},
          "execution_count": 3
        }
      ]
    },
    {
      "cell_type": "code",
      "source": [
        "print(X)"
      ],
      "metadata": {
        "colab": {
          "base_uri": "https://localhost:8080/"
        },
        "id": "Uazx7ex76-jS",
        "outputId": "48ea89a9-68c4-472f-a829-4c294535bb55"
      },
      "execution_count": 21,
      "outputs": [
        {
          "output_type": "stream",
          "name": "stdout",
          "text": [
            "tensor([[ 1.],\n",
            "        [ 2.],\n",
            "        [ 3.],\n",
            "        [ 4.],\n",
            "        [ 5.],\n",
            "        [ 6.],\n",
            "        [ 7.],\n",
            "        [ 8.],\n",
            "        [ 9.],\n",
            "        [10.],\n",
            "        [11.],\n",
            "        [12.],\n",
            "        [13.],\n",
            "        [14.],\n",
            "        [15.],\n",
            "        [16.],\n",
            "        [17.],\n",
            "        [18.],\n",
            "        [19.],\n",
            "        [20.],\n",
            "        [21.],\n",
            "        [22.],\n",
            "        [23.],\n",
            "        [24.],\n",
            "        [25.],\n",
            "        [26.],\n",
            "        [27.],\n",
            "        [28.],\n",
            "        [29.],\n",
            "        [30.],\n",
            "        [31.],\n",
            "        [32.],\n",
            "        [33.],\n",
            "        [34.],\n",
            "        [35.],\n",
            "        [36.],\n",
            "        [37.],\n",
            "        [38.],\n",
            "        [39.],\n",
            "        [40.],\n",
            "        [41.],\n",
            "        [42.],\n",
            "        [43.],\n",
            "        [44.],\n",
            "        [45.],\n",
            "        [46.],\n",
            "        [47.],\n",
            "        [48.],\n",
            "        [49.],\n",
            "        [50.]])\n"
          ]
        }
      ]
    },
    {
      "cell_type": "code",
      "source": [
        "torch.manual_seed(71)\n",
        "e=torch.randint(-8,9,(50,1),dtype=float)"
      ],
      "metadata": {
        "id": "srQlF0FuxEsw"
      },
      "execution_count": 4,
      "outputs": []
    },
    {
      "cell_type": "code",
      "source": [
        "\n",
        "e=e.to(torch.float32)"
      ],
      "metadata": {
        "id": "dfNF6-msB_nM"
      },
      "execution_count": 6,
      "outputs": []
    },
    {
      "cell_type": "code",
      "source": [
        "e.dtype"
      ],
      "metadata": {
        "colab": {
          "base_uri": "https://localhost:8080/"
        },
        "id": "bHQkAEyoCK8J",
        "outputId": "2d6a6be7-4918-4010-9b68-f6c23edfd25a"
      },
      "execution_count": 7,
      "outputs": [
        {
          "output_type": "execute_result",
          "data": {
            "text/plain": [
              "torch.float32"
            ]
          },
          "metadata": {},
          "execution_count": 7
        }
      ]
    },
    {
      "cell_type": "code",
      "source": [
        "y=2*X+1+e\n",
        "y.shape\n",
        "y = y.to(torch.float32)\n",
        "y.dtype"
      ],
      "metadata": {
        "colab": {
          "base_uri": "https://localhost:8080/"
        },
        "id": "exThoOdIxRBT",
        "outputId": "4b9a84c6-7583-4680-a725-4f684fc7e176"
      },
      "execution_count": 8,
      "outputs": [
        {
          "output_type": "execute_result",
          "data": {
            "text/plain": [
              "torch.float32"
            ]
          },
          "metadata": {},
          "execution_count": 8
        }
      ]
    },
    {
      "cell_type": "code",
      "source": [
        "print(Y)"
      ],
      "metadata": {
        "colab": {
          "base_uri": "https://localhost:8080/"
        },
        "id": "07GqUh5f7Dzn",
        "outputId": "db5950e9-f664-457f-fb92-dc6fb280e5b8"
      },
      "execution_count": 22,
      "outputs": [
        {
          "output_type": "stream",
          "name": "stdout",
          "text": [
            "tensor([[ 4.],\n",
            "        [11.],\n",
            "        [ 8.],\n",
            "        [14.],\n",
            "        [12.],\n",
            "        [ 8.],\n",
            "        [16.],\n",
            "        [11.],\n",
            "        [22.],\n",
            "        [21.],\n",
            "        [24.],\n",
            "        [27.],\n",
            "        [27.],\n",
            "        [20.],\n",
            "        [35.],\n",
            "        [37.],\n",
            "        [28.],\n",
            "        [36.],\n",
            "        [31.],\n",
            "        [32.],\n",
            "        [39.],\n",
            "        [43.],\n",
            "        [48.],\n",
            "        [42.],\n",
            "        [47.],\n",
            "        [55.],\n",
            "        [56.],\n",
            "        [59.],\n",
            "        [62.],\n",
            "        [65.],\n",
            "        [63.],\n",
            "        [71.],\n",
            "        [72.],\n",
            "        [67.],\n",
            "        [64.],\n",
            "        [67.],\n",
            "        [71.],\n",
            "        [83.],\n",
            "        [78.],\n",
            "        [88.],\n",
            "        [81.],\n",
            "        [82.],\n",
            "        [88.],\n",
            "        [80.],\n",
            "        [89.],\n",
            "        [98.],\n",
            "        [86.],\n",
            "        [93.],\n",
            "        [91.],\n",
            "        [98.]], dtype=torch.float64)\n"
          ]
        }
      ]
    },
    {
      "cell_type": "code",
      "source": [
        "plt.scatter(X.numpy(),Y.numpy())"
      ],
      "metadata": {
        "colab": {
          "base_uri": "https://localhost:8080/",
          "height": 447
        },
        "id": "ld3z1j7IxXBs",
        "outputId": "8c28a385-8cbb-4958-ef61-e07f70b9b18e"
      },
      "execution_count": 8,
      "outputs": [
        {
          "output_type": "execute_result",
          "data": {
            "text/plain": [
              "<matplotlib.collections.PathCollection at 0x7839eb132260>"
            ]
          },
          "metadata": {},
          "execution_count": 8
        },
        {
          "output_type": "display_data",
          "data": {
            "text/plain": [
              "<Figure size 640x480 with 1 Axes>"
            ],
            "image/png": "[encoded data removed]"
          },
          "metadata": {}
        }
      ]
    },
    {
      "cell_type": "code",
      "source": [
        "class Model(nn.Module):\n",
        "  def __init__(self,in_features,out_features):\n",
        "    super().__init__()\n",
        "    self.linear=nn.Linear(in_features,out_features)\n",
        "  def forward(self,x):\n",
        "    y_pred=self.linear(x)\n",
        "    return y_pred\n",
        "\n"
      ],
      "metadata": {
        "id": "a01-7S-Exjz4"
      },
      "execution_count": 9,
      "outputs": []
    },
    {
      "cell_type": "code",
      "source": [
        "torch.manual_seed(59)\n",
        "model=Model(1,1)\n",
        "print(model.linear.weight)\n",
        "print(model.linear.bias)"
      ],
      "metadata": {
        "colab": {
          "base_uri": "https://localhost:8080/"
        },
        "id": "QNBQ6iMMx4Db",
        "outputId": "db53b053-b258-4c65-c993-ec0479895c9f"
      },
      "execution_count": 10,
      "outputs": [
        {
          "output_type": "stream",
          "name": "stdout",
          "text": [
            "Parameter containing:\n",
            "tensor([[0.1060]], requires_grad=True)\n",
            "Parameter containing:\n",
            "tensor([0.9638], requires_grad=True)\n"
          ]
        }
      ]
    },
    {
      "cell_type": "code",
      "source": [
        "x=torch.tensor([2.0])\n",
        "print(model.forward(x))\n"
      ],
      "metadata": {
        "colab": {
          "base_uri": "https://localhost:8080/"
        },
        "id": "EB5YSmb4y9yb",
        "outputId": "77a351c9-a6de-44e7-fc64-f7845db48e8e"
      },
      "execution_count": 13,
      "outputs": [
        {
          "output_type": "stream",
          "name": "stdout",
          "text": [
            "tensor([1.1758], grad_fn=<ViewBackward0>)\n"
          ]
        }
      ]
    },
    {
      "cell_type": "code",
      "source": [
        "x1=np.linspace(0.0,50.0,50)\n",
        "w1=0.1059\n",
        "b1=0.9637\n",
        "y1=w1*x1+b1\n",
        "plt.scatter(X.numpy(),Y.numpy())\n",
        "plt.plot(x1,y1,'r')"
      ],
      "metadata": {
        "colab": {
          "base_uri": "https://localhost:8080/",
          "height": 447
        },
        "id": "uwLvhi2FzMUl",
        "outputId": "bf72fea2-7217-4ddb-d489-13a8de967aba"
      },
      "execution_count": 31,
      "outputs": [
        {
          "output_type": "execute_result",
          "data": {
            "text/plain": [
              "[<matplotlib.lines.Line2D at 0x7839dc0f33a0>]"
            ]
          },
          "metadata": {},
          "execution_count": 31
        },
        {
          "output_type": "display_data",
          "data": {
            "text/plain": [
              "<Figure size 640x480 with 1 Axes>"
            ],
            "image/png": "[encoded data removed]"
          },
          "metadata": {}
        }
      ]
    },
    {
      "cell_type": "code",
      "source": [
        "criterion=nn.MSELoss()\n",
        "optimizer=torch.optim.SGD(model.parameters(),lr=0.001)\n",
        "epochs=50\n",
        "losses=[]\n",
        "for i in range(epochs):\n",
        "  i=i+1\n",
        "  y_pred=model.forward(X)\n",
        "  loss=criterion(y_pred,y)\n",
        "  losses.append(loss)\n",
        "  print(f\"epoch{i} loss:{loss.item()} weight:{model.linear.weight.item()} bias:{model.linear.bias.item()}\")\n",
        "  optimizer.zero_grad()\n",
        "  loss.backward()\n",
        "  optimizer.step()\n",
        "\n",
        "\n",
        "\n",
        "\n"
      ],
      "metadata": {
        "colab": {
          "base_uri": "https://localhost:8080/"
        },
        "id": "MRl88_uP158-",
        "outputId": "56cbed96-e8cb-4328-e917-b16ad9ec092d"
      },
      "execution_count": 12,
      "outputs": [
        {
          "output_type": "stream",
          "name": "stdout",
          "text": [
            "epoch1 loss:2996.4072265625 weight:0.10597813129425049 bias:0.9637961387634277\n",
            "epoch2 loss:1417.8204345703125 weight:3.271233320236206 bias:1.0585696697235107\n",
            "epoch3 loss:676.7648315429688 weight:1.1024935245513916 bias:0.9948908686637878\n",
            "epoch4 loss:328.8814392089844 weight:2.5883874893188477 bias:1.0397764444351196\n",
            "epoch5 loss:165.5699005126953 weight:1.5702766180038452 bias:1.010277509689331\n",
            "epoch6 loss:88.90411376953125 weight:2.2678072452545166 bias:1.0317431688308716\n",
            "epoch7 loss:52.913631439208984 weight:1.7898505926132202 bias:1.01828932762146\n",
            "epoch8 loss:36.01784896850586 weight:2.1172897815704346 bias:1.0287601947784424\n",
            "epoch9 loss:28.085952758789062 weight:1.8929046392440796 bias:1.0228382349014282\n",
            "epoch10 loss:24.362083435058594 weight:2.04660701751709 bias:1.0281473398208618\n",
            "epoch11 loss:22.6136417388916 weight:1.9412593841552734 bias:1.0257606506347656\n",
            "epoch12 loss:21.792560577392578 weight:2.013401985168457 bias:1.0286461114883423\n",
            "epoch13 loss:21.40682601928711 weight:1.9639356136322021 bias:1.0279186964035034\n",
            "epoch14 loss:21.225446701049805 weight:1.997791051864624 bias:1.0296660661697388\n",
            "epoch15 loss:21.140012741088867 weight:1.9745575189590454 bias:1.029717206954956\n",
            "epoch16 loss:21.0996150970459 weight:1.9904391765594482 bias:1.0309299230575562\n",
            "epoch17 loss:21.080358505249023 weight:1.979520559310913 bias:1.031346082687378\n",
            "epoch18 loss:21.071029663085938 weight:1.986964464187622 bias:1.0323073863983154\n",
            "epoch19 loss:21.066356658935547 weight:1.9818272590637207 bias:1.032894492149353\n",
            "epoch20 loss:21.063879013061523 weight:1.9853099584579468 bias:1.033737301826477\n",
            "epoch21 loss:21.062416076660156 weight:1.9828869104385376 bias:1.0344042778015137\n",
            "epoch22 loss:21.061452865600586 weight:1.9845103025436401 bias:1.0351911783218384\n",
            "epoch23 loss:21.060705184936523 weight:1.9833608865737915 bias:1.0358952283859253\n",
            "epoch24 loss:21.060073852539062 weight:1.9841115474700928 bias:1.0366554260253906\n",
            "epoch25 loss:21.059480667114258 weight:1.98356032371521 bias:1.0373765230178833\n",
            "epoch26 loss:21.058923721313477 weight:1.9839011430740356 bias:1.0381237268447876\n",
            "epoch27 loss:21.058366775512695 weight:1.9836307764053345 bias:1.0388524532318115\n",
            "epoch28 loss:21.057817459106445 weight:1.9837793111801147 bias:1.03959321975708\n",
            "epoch29 loss:21.05727767944336 weight:1.9836405515670776 bias:1.0403250455856323\n",
            "epoch30 loss:21.05673599243164 weight:1.9836989641189575 bias:1.041062355041504\n",
            "epoch31 loss:21.056194305419922 weight:1.9836220741271973 bias:1.041795253753662\n",
            "epoch32 loss:21.055654525756836 weight:1.983638048171997 bias:1.0425305366516113\n",
            "epoch33 loss:21.055116653442383 weight:1.9835902452468872 bias:1.043263554573059\n",
            "epoch34 loss:21.054580688476562 weight:1.983586311340332 bias:1.0439975261688232\n",
            "epoch35 loss:21.054039001464844 weight:1.98355233669281 bias:1.0447301864624023\n",
            "epoch36 loss:21.05350112915039 weight:1.9835388660430908 bias:1.0454630851745605\n",
            "epoch37 loss:21.052967071533203 weight:1.9835114479064941 bias:1.0461952686309814\n",
            "epoch38 loss:21.052431106567383 weight:1.9834935665130615 bias:1.0469273328781128\n",
            "epoch39 loss:21.051897048950195 weight:1.9834692478179932 bias:1.0476588010787964\n",
            "epoch40 loss:21.051362991333008 weight:1.9834492206573486 bias:1.0483900308609009\n",
            "epoch41 loss:21.050823211669922 weight:1.9834263324737549 bias:1.0491207838058472\n",
            "epoch42 loss:21.05029296875 weight:1.983405590057373 bias:1.0498511791229248\n",
            "epoch43 loss:21.049760818481445 weight:1.9833831787109375 bias:1.0505812168121338\n",
            "epoch44 loss:21.04922866821289 weight:1.9833619594573975 bias:1.0513108968734741\n",
            "epoch45 loss:21.048696517944336 weight:1.9833401441574097 bias:1.0520402193069458\n",
            "epoch46 loss:21.048166275024414 weight:1.983318567276001 bias:1.0527691841125488\n",
            "epoch47 loss:21.04763412475586 weight:1.9832967519760132 bias:1.0534976720809937\n",
            "epoch48 loss:21.047101974487305 weight:1.9832751750946045 bias:1.0542258024215698\n",
            "epoch49 loss:21.046567916870117 weight:1.9832537174224854 bias:1.0549535751342773\n",
            "epoch50 loss:21.046045303344727 weight:1.9832319021224976 bias:1.0556809902191162\n"
          ]
        }
      ]
    },
    {
      "cell_type": "code",
      "source": [
        "# Assuming losses is a list of floats\n",
        "plt.plot(range(epochs), losses)\n",
        "plt.xlabel(\"Epochs\")\n",
        "plt.ylabel(\"MSE Loss\")\n",
        "plt.title(\"Training Loss Curve\")\n",
        "plt.show()"
      ],
      "metadata": {
        "colab": {
          "base_uri": "https://localhost:8080/",
          "height": 472
        },
        "id": "LOOD-mv73WIy",
        "outputId": "99c643f7-6e64-4010-e6f2-156d97f8d132"
      },
      "execution_count": 22,
      "outputs": [
        {
          "output_type": "display_data",
          "data": {
            "text/plain": [
              "<Figure size 640x480 with 1 Axes>"
            ],
            "image/png": "[encoded data removed]"
          },
          "metadata": {}
        }
      ]
    },
    {
      "cell_type": "code",
      "source": [
        "x=np.linspace(0.0,50.0,50)\n",
        "current_weight=model.linear.weight.item()\n",
        "current_bias=model.linear.bias.item()\n",
        "predicted_y=current_weight*x+current_bias\n"
      ],
      "metadata": {
        "id": "c54vWKifFLF0"
      },
      "execution_count": 24,
      "outputs": []
    },
    {
      "cell_type": "code",
      "source": [
        "plt.scatter(X.numpy(),y.numpy())\n",
        "plt.plot(x,predicted_y,'r')"
      ],
      "metadata": {
        "colab": {
          "base_uri": "https://localhost:8080/",
          "height": 447
        },
        "id": "YCWiw2QqCeLN",
        "outputId": "00f15f84-3e23-482b-cd44-5f7f2e56712f"
      },
      "execution_count": 25,
      "outputs": [
        {
          "output_type": "execute_result",
          "data": {
            "text/plain": [
              "[<matplotlib.lines.Line2D at 0x78e6794d1c30>]"
            ]
          },
          "metadata": {},
          "execution_count": 25
        },
        {
          "output_type": "display_data",
          "data": {
            "text/plain": [
              "<Figure size 640x480 with 1 Axes>"
            ],
            "image/png": "[encoded data removed]"
          },
          "metadata": {}
        }
      ]
    },
    {
      "cell_type": "code",
      "source": [
        "for name,param in model.named_parameters():\n",
        "  print(name,'\\t',param.item())"
      ],
      "metadata": {
        "colab": {
          "base_uri": "https://localhost:8080/"
        },
        "id": "14Gtr_ocFt-v",
        "outputId": "385d4ae8-e058-4e66-d5e0-9be0db8b574c"
      },
      "execution_count": 26,
      "outputs": [
        {
          "output_type": "stream",
          "name": "stdout",
          "text": [
            "linear.weight \t 1.983210563659668\n",
            "linear.bias \t 1.0564080476760864\n"
          ]
        }
      ]
    },
    {
      "cell_type": "code",
      "source": [],
      "metadata": {
        "id": "Frc9ZgIZGEYf"
      },
      "execution_count": null,
      "outputs": []
    }
  ]
}